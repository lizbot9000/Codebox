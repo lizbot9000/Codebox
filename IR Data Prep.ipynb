{
 "cells": [
  {
   "cell_type": "markdown",
   "metadata": {},
   "source": [
    "# COMP47670: Data Science in Python\n",
    "\n",
    "for  \n",
    "Advanced Metallic Systems   \n",
    "Centre for Doctoral Training  \n",
    "\n",
    "## Assignment: Data Preparation\n",
    "\n",
    "This dataset is a sample from a larger additive manufacturing dataset.   \n",
    "It comes from a build of 27×5mm cubes built with a layer thickness of 20μm resulting in 250 layers in the build. The sample comprises 15 layers. Data for each layer is stored in a separate file. Each file contains about 700,000 data points. Each data point, has x and y coordinates and a temperature value (which is duplicated). The temperature values are actually heat emissivity measures in mV. \n"
   ]
  },
  {
   "cell_type": "code",
   "execution_count": null,
   "metadata": {},
   "outputs": [],
   "source": [
    "import re\n",
    "import pandas as pd\n",
    "\n",
    "def sorted_aphanumeric(data):\n",
    "    convert = lambda text: int(text) if text.isdigit() else text.lower()\n",
    "    alphanum_key = lambda key: [ convert(c) for c in re.split('([0-9]+)', key) ] \n",
    "    return sorted(data, key=alphanum_key)"
   ]
  },
  {
   "cell_type": "markdown",
   "metadata": {},
   "source": [
    "The data should be placed in a sub-directory called `data_sample`."
   ]
  },
  {
   "cell_type": "code",
   "execution_count": null,
   "metadata": {},
   "outputs": [],
   "source": [
    "mypath = './data_sample/'\n",
    "from os import listdir\n",
    "def_files = sorted_aphanumeric(listdir(mypath))"
   ]
  },
  {
   "cell_type": "code",
   "execution_count": null,
   "metadata": {},
   "outputs": [],
   "source": [
    "def_files"
   ]
  },
  {
   "cell_type": "code",
   "execution_count": null,
   "metadata": {},
   "outputs": [],
   "source": [
    "f1 = pd.read_csv('./data_sample/3.88.csv',index_col=0)\n",
    "print(f1.shape)\n",
    "f1[1445:1450]"
   ]
  },
  {
   "cell_type": "markdown",
   "metadata": {},
   "source": [
    "### Collapsing near duplicate rows\n",
    "We have multiple consecutive readings at the same points so we can collapse these into a single row for each x,y point. Because we want to work with unique (x,y) pairs we create a new feature `ybyx` which is the product of x and y and run `groupby` on this feature.  \n",
    "You may choose not to do this 'collapse' step and work with the original true time-series. "
   ]
  },
  {
   "cell_type": "code",
   "execution_count": null,
   "metadata": {},
   "outputs": [],
   "source": [
    "f1['ybyx']= list(zip(f1['x'],f1['y']))\n",
    "f1.head()"
   ]
  },
  {
   "cell_type": "code",
   "execution_count": null,
   "metadata": {},
   "outputs": [],
   "source": [
    "f2 = f1.groupby((f1.ybyx!=f1.ybyx.shift()).cumsum()).mean().reset_index(drop=True)\n",
    "print(f2.shape)\n",
    "f2.head(10)"
   ]
  },
  {
   "cell_type": "code",
   "execution_count": null,
   "metadata": {},
   "outputs": [],
   "source": [
    "%matplotlib inline\n",
    "ax1 = f2.plot.scatter('x','y', c='DarkBlue',figsize=(10,10))"
   ]
  },
  {
   "cell_type": "code",
   "execution_count": null,
   "metadata": {},
   "outputs": [],
   "source": []
  }
 ],
 "metadata": {
  "kernelspec": {
   "display_name": "Python 3",
   "language": "python",
   "name": "python3"
  },
  "language_info": {
   "codemirror_mode": {
    "name": "ipython",
    "version": 3
   },
   "file_extension": ".py",
   "mimetype": "text/x-python",
   "name": "python",
   "nbconvert_exporter": "python",
   "pygments_lexer": "ipython3",
   "version": "3.7.4"
  }
 },
 "nbformat": 4,
 "nbformat_minor": 2
}
